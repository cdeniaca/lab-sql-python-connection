{
 "cells": [
  {
   "cell_type": "code",
   "execution_count": null,
   "metadata": {},
   "outputs": [],
   "source": [
    "from sqlalchemy import create_engine\n",
    "import pandas as pd\n",
    "\n",
    "# Configurar la conexión a la base de datos\n",
    "def connect_to_db(user, password, host, database):\n",
    "    \"\"\"\n",
    "    Establece una conexión con la base de datos usando SQLAlchemy.\n",
    "    \"\"\"\n",
    "    connection_string = f\"mysql+pymysql://{user}:{password}@{host}/{database}\"\n",
    "    engine = create_engine(connection_string)\n",
    "    return engine\n",
    "\n",
    "# Ejemplo de uso:\n",
    "# engine = connect_to_db('root', 'password', 'localhost', 'sakila')\n"
   ]
  },
  {
   "cell_type": "code",
   "execution_count": null,
   "metadata": {},
   "outputs": [],
   "source": [
    "def rentals_month(engine, month, year):\n",
    "    \"\"\"\n",
    "    Recupera los datos de alquiler para un mes y año específicos como un DataFrame.\n",
    "    \"\"\"\n",
    "    query = f\"\"\"\n",
    "    SELECT \n",
    "        customer_id, \n",
    "        rental_id, \n",
    "        rental_date\n",
    "    FROM \n",
    "        rental\n",
    "    WHERE \n",
    "        MONTH(rental_date) = {month} AND YEAR(rental_date) = {year};\n",
    "    \"\"\"\n",
    "    return pd.read_sql(query, con=engine)\n",
    "\n",
    "# Ejemplo de uso:\n",
    "# rentals_may = rentals_month(engine, 5, 2005)\n"
   ]
  },
  {
   "cell_type": "code",
   "execution_count": null,
   "metadata": {},
   "outputs": [],
   "source": [
    "def rental_count_month(df, month, year):\n",
    "    \"\"\"\n",
    "    Calcula el número de alquileres por cliente en un mes y año específicos.\n",
    "    \"\"\"\n",
    "    rental_column = f\"rentals_{month:02d}_{year}\"\n",
    "    rental_counts = df.groupby('customer_id').size().reset_index(name=rental_column)\n",
    "    return rental_counts\n",
    "\n",
    "# Ejemplo de uso:\n",
    "# rental_counts_may = rental_count_month(rentals_may, 5, 2005)\n"
   ]
  },
  {
   "cell_type": "code",
   "execution_count": null,
   "metadata": {},
   "outputs": [],
   "source": [
    "def compare_rentals(df1, df2):\n",
    "    \"\"\"\n",
    "    Compara los alquileres entre dos DataFrames y calcula la diferencia.\n",
    "    \"\"\"\n",
    "    combined = pd.merge(df1, df2, on='customer_id', how='outer').fillna(0)\n",
    "    rental_columns = [col for col in combined.columns if col != 'customer_id']\n",
    "    combined['difference'] = combined[rental_columns[1]] - combined[rental_columns[0]]\n",
    "    return combined\n",
    "\n",
    "# Ejemplo de uso:\n",
    "# comparison = compare_rentals(rental_counts_may, rental_counts_june)\n"
   ]
  },
  {
   "cell_type": "code",
   "execution_count": null,
   "metadata": {},
   "outputs": [],
   "source": [
    "# Conectar a la base de datos\n",
    "engine = connect_to_db('root', 'password', 'localhost', 'sakila')\n",
    "\n",
    "# Obtener datos de alquiler para mayo y junio de 2005\n",
    "rentals_may = rentals_month(engine, 5, 2005)\n",
    "rentals_june = rentals_month(engine, 6, 2005)\n",
    "\n",
    "# Calcular el número de alquileres por cliente en mayo y junio\n",
    "rental_counts_may = rental_count_month(rentals_may, 5, 2005)\n",
    "rental_counts_june = rental_count_month(rentals_june, 6, 2005)\n",
    "\n",
    "# Comparar las actividades de los clientes entre mayo y junio\n",
    "comparison = compare_rentals(rental_counts_may, rental_counts_june)\n",
    "\n",
    "# Mostrar el resultado\n",
    "print(comparison)\n"
   ]
  }
 ],
 "metadata": {
  "kernelspec": {
   "display_name": "Python 3",
   "language": "python",
   "name": "python3"
  },
  "language_info": {
   "codemirror_mode": {
    "name": "ipython",
    "version": 3
   },
   "file_extension": ".py",
   "mimetype": "text/x-python",
   "name": "python",
   "nbconvert_exporter": "python",
   "pygments_lexer": "ipython3",
   "version": "3.12.6"
  }
 },
 "nbformat": 4,
 "nbformat_minor": 2
}
